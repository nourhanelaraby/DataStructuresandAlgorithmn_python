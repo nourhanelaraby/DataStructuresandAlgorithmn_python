{
 "cells": [
  {
   "cell_type": "markdown",
   "id": "44ee39d4",
   "metadata": {},
   "source": [
    "__Sequential Search__\n",
    "\n",
    "The most common way to search for an element is to use linear search (sequential search) passing through each element (guess and check ,eliminate one by one) \n",
    "\n",
    "time complexity : __O(n) the number of checks grows linearly with inputs__\n",
    "\n",
    "__BinarySearch__\n",
    "\n",
    "__There are two common ways for binary search implementation__\n",
    "\n",
    "a)`iterative way` : program loop pushing borders toward eachother iterartively by a program loop \n",
    "\n",
    "time complexity  : __O(logn)__  \n",
    "\n",
    "space complexity : __O(1)__      >>> in place (no additional memory required)\n",
    " \n",
    "b)`recursive way` :  will be called recursively with properly adapted border \n",
    "\n",
    "time complexity  : __O(logn)__\n",
    "\n",
    "space complexity : __O(logn)__   >>> (due to adding frames to call stack)\n",
    "\n",
    "\n",
    "it is preferred to be done in iterative rather than recursive way\n",
    "\n",
    "\n",
    "__For Further Improvement:__\n",
    "\n",
    "to decrease number of checking steps,we can limit the borders (search space ) if we know left and right borders"
   ]
  },
  {
   "cell_type": "code",
   "execution_count": 1,
   "id": "ef0f117b",
   "metadata": {},
   "outputs": [],
   "source": [
    "array=[1,2,3,4,5]\n",
    "item=2"
   ]
  },
  {
   "cell_type": "code",
   "execution_count": 2,
   "id": "fb92734c",
   "metadata": {},
   "outputs": [],
   "source": [
    "class Binarysearch():\n",
    "    def binarysearch(self,array,item):\n",
    "        low=0\n",
    "        high=len(array)-1\n",
    "        while(low<=high):\n",
    "            middle=(low+high)//2\n",
    "            if (array[middle]==item) :\n",
    "                return middle\n",
    "            elif (array[middle]>item):\n",
    "                high=middle-1\n",
    "            else:\n",
    "                low=middle+1\n",
    "        return -1\n",
    "    def binarysearchrecursive(self,array,item,low=0,high=len(array)-1):\n",
    "        if (low<=high):\n",
    "            middle=(low+high)//2\n",
    "            if (array[middle]==item):\n",
    "                return middle\n",
    "            elif (array[middle]>item):\n",
    "                return self.binarysearchrecursive(array,item,low,middle-1)\n",
    "            else:\n",
    "                return self.binarysearchrecursive(array,item,middle+1,high)\n",
    "        else:\n",
    "            return -1"
   ]
  },
  {
   "cell_type": "code",
   "execution_count": 3,
   "id": "f643f1b9",
   "metadata": {},
   "outputs": [
    {
     "name": "stdout",
     "output_type": "stream",
     "text": [
      "1\n",
      "1\n"
     ]
    }
   ],
   "source": [
    "array=[1,2,3,4,5]\n",
    "item=2\n",
    "obj=Binarysearch()\n",
    "print(obj.binarysearch(array,item))\n",
    "print(obj.binarysearchrecursive(array,item))"
   ]
  },
  {
   "cell_type": "code",
   "execution_count": 4,
   "id": "c89d1e5a",
   "metadata": {},
   "outputs": [
    {
     "name": "stdout",
     "output_type": "stream",
     "text": [
      "-1\n",
      "-1\n"
     ]
    }
   ],
   "source": [
    "#'Binarysearch' object is not subscriptable if self not passed to function\n",
    "array=[1,2,3,4,5]\n",
    "item=-1\n",
    "obj=Binarysearch()\n",
    "print(obj.binarysearch(array,item))\n",
    "print(obj.binarysearchrecursive(array,item))"
   ]
  },
  {
   "cell_type": "code",
   "execution_count": null,
   "id": "9398daa3",
   "metadata": {},
   "outputs": [],
   "source": []
  }
 ],
 "metadata": {
  "kernelspec": {
   "display_name": "Python 3",
   "language": "python",
   "name": "python3"
  },
  "language_info": {
   "codemirror_mode": {
    "name": "ipython",
    "version": 3
   },
   "file_extension": ".py",
   "mimetype": "text/x-python",
   "name": "python",
   "nbconvert_exporter": "python",
   "pygments_lexer": "ipython3",
   "version": "3.7.9"
  },
  "toc": {
   "base_numbering": 1,
   "nav_menu": {},
   "number_sections": true,
   "sideBar": true,
   "skip_h1_title": false,
   "title_cell": "Table of Contents",
   "title_sidebar": "Contents",
   "toc_cell": false,
   "toc_position": {},
   "toc_section_display": true,
   "toc_window_display": false
  }
 },
 "nbformat": 4,
 "nbformat_minor": 5
}
