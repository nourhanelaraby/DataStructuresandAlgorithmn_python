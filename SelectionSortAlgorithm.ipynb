{
 "cells": [
  {
   "cell_type": "markdown",
   "id": "949eeb0c",
   "metadata": {},
   "source": [
    "__Selection Sort__\n",
    "\n",
    "array            :    [ 8 , 5 , 2 , 9 , 5 , 6 , 3]\n",
    "\n",
    "first iteration  :    [ 2 , 5 , 8 , 9 , 5 , 6 , 3]\n",
    "\n",
    "second iteration :    [ 2 , 3 , 8 , 9 , 5 , 6 , 5]\n",
    "\n",
    "third iteration  :    [ 2 , 3 , 5 , 9 , 8 , 6 , 5]\n",
    "\n",
    "fourth iteration :    [ 2 , 3 , 5 , 5 , 8 , 6 , 9]\n",
    "\n",
    "fifth iteration  :    [ 2 , 3 , 5 , 5 , 6 , 8 , 9]\n",
    "\n",
    "sixth iteration  :    [ 2 , 3 , 5 , 5 , 6 , 8 , 9]\n",
    "\n",
    "sorted list is getting bigger and unsorted list is getting smaller\n",
    "\n",
    "__Time complexity__\n",
    "\n",
    "a)`best case`    : __O(n * n)__\n",
    "\n",
    "b)`average case` : __O(n * n)__\n",
    "\n",
    "c)`worst case`   : __O(n * n)__\n",
    "\n",
    "\n",
    "__Space complexity__ \n",
    "\n",
    "\n",
    "`worst case`    : __O(1)__      >>> in place (no additional memory required)\n",
    " "
   ]
  },
  {
   "cell_type": "code",
   "execution_count": 10,
   "id": "dc3f3007",
   "metadata": {},
   "outputs": [],
   "source": [
    "class SelectionSort():\n",
    "    def sort(self,array):\n",
    "        currentIdx=0      #current idx represents the starting position of unsorted sublist\n",
    "        while (currentIdx< len(array)-1):\n",
    "            smallestIdx=self.findSmallest(array,currentIdx)\n",
    "            swap(currentIdx,smallestIdx,array)\n",
    "            currentIdx+=1\n",
    "        return array\n",
    "    def findSmallest(self,array,currentIdx):\n",
    "        smallestIdx=currentIdx\n",
    "        for i in range(currentIdx+1,len(array)):\n",
    "            if(array[i]<array[smallestIdx]):\n",
    "                smallestIdx=i\n",
    "        return smallestIdx\n",
    "    def swap(self,i,j,arr):\n",
    "        arr[i],arr[j]=arr[j],arr[i]"
   ]
  },
  {
   "cell_type": "code",
   "execution_count": 11,
   "id": "8238c3c1",
   "metadata": {},
   "outputs": [
    {
     "name": "stdout",
     "output_type": "stream",
     "text": [
      "[1, 2, 3, 4, 5]\n"
     ]
    }
   ],
   "source": [
    "arr=[5,4,3,2,1]\n",
    "obj=SelectionSort()\n",
    "print(obj.sort(arr))"
   ]
  },
  {
   "cell_type": "code",
   "execution_count": 12,
   "id": "cc483eac",
   "metadata": {},
   "outputs": [
    {
     "name": "stdout",
     "output_type": "stream",
     "text": [
      "[2, 1, 3, 4, 5]\n"
     ]
    }
   ],
   "source": [
    "def swap(i,j,arr):\n",
    "    arr[i],arr[j]=arr[j],arr[i]\n",
    "   \n",
    "arr=[1,2,3,4,5]\n",
    "swap(0,1,arr)\n",
    "print(arr)"
   ]
  },
  {
   "cell_type": "code",
   "execution_count": 13,
   "id": "d76cf3cf",
   "metadata": {},
   "outputs": [
    {
     "name": "stdout",
     "output_type": "stream",
     "text": [
      "[2, 2, 3, 4, 5]\n"
     ]
    }
   ],
   "source": [
    "def swap(i,j,arr):\n",
    "    arr[i]=arr[j]\n",
    "    arr[j]=arr[i]\n",
    "arr=[1,2,3,4,5]\n",
    "swap(0,1,arr)\n",
    "print(arr)"
   ]
  },
  {
   "cell_type": "code",
   "execution_count": 14,
   "id": "f174826f",
   "metadata": {},
   "outputs": [],
   "source": [
    "# resoures :\n",
    "#     algoexpert\n",
    "#     grokking algorithms chapter 3\n",
    "#     anuj video on youtube"
   ]
  },
  {
   "cell_type": "code",
   "execution_count": null,
   "id": "650e0862",
   "metadata": {},
   "outputs": [],
   "source": []
  }
 ],
 "metadata": {
  "kernelspec": {
   "display_name": "Python 3",
   "language": "python",
   "name": "python3"
  },
  "language_info": {
   "codemirror_mode": {
    "name": "ipython",
    "version": 3
   },
   "file_extension": ".py",
   "mimetype": "text/x-python",
   "name": "python",
   "nbconvert_exporter": "python",
   "pygments_lexer": "ipython3",
   "version": "3.7.9"
  },
  "toc": {
   "base_numbering": 1,
   "nav_menu": {},
   "number_sections": true,
   "sideBar": true,
   "skip_h1_title": false,
   "title_cell": "Table of Contents",
   "title_sidebar": "Contents",
   "toc_cell": false,
   "toc_position": {},
   "toc_section_display": true,
   "toc_window_display": false
  }
 },
 "nbformat": 4,
 "nbformat_minor": 5
}
